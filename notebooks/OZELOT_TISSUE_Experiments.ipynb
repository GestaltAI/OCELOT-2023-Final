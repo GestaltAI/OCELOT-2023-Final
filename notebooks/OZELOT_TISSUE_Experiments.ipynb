{
 "cells": [
  {
   "attachments": {},
   "cell_type": "markdown",
   "metadata": {},
   "source": [
    "## OCELOT Pipeline Experiments 01"
   ]
  },
  {
   "attachments": {},
   "cell_type": "markdown",
   "metadata": {
    "id": "Etq2QqNtml5l"
   },
   "source": [
    "### Install MMSegmentation\n"
   ]
  },
  {
   "cell_type": "code",
   "execution_count": null,
   "metadata": {
    "colab": {
     "base_uri": "https://localhost:8080/"
    },
    "id": "H_tKg7SZmQsI",
    "outputId": "02fe5914-a5fe-436d-a81a-7f539378c00a"
   },
   "outputs": [],
   "source": [
    "# Check nvcc version\n",
    "!nvcc -V\n",
    "# Check GCC version\n",
    "!gcc --version"
   ]
  },
  {
   "cell_type": "code",
   "execution_count": null,
   "metadata": {
    "colab": {
     "base_uri": "https://localhost:8080/"
    },
    "id": "yCFIuJdQm9-H",
    "outputId": "e73c91c2-55e2-4299-836f-e3fdb1a37f07"
   },
   "outputs": [],
   "source": [
    "!nvidia-smi"
   ]
  },
  {
   "cell_type": "code",
   "execution_count": null,
   "metadata": {
    "colab": {
     "base_uri": "https://localhost:8080/"
    },
    "id": "Gtnr2mohmnkp",
    "outputId": "a2d7c243-2ffa-46cf-8af3-badc229938fa"
   },
   "outputs": [],
   "source": [
    "# # Install PyTorch\n",
    "# #!pip install torch==1.12.0 torchvision torchvision==0.13.0 torchaudio==0.12.0 --extra-index-url https://download.pytorch.org/whl/cu113\n",
    "\n",
    "# # Install mim\n",
    "# %pip install -U openmim\n",
    "# # Install mmengine\n",
    "# !mim install mmengine\n",
    "# # Install MMCV\n",
    "# !mim install 'mmcv >= 2.0.0rc4'\n",
    "# %pip install mmsegmentation"
   ]
  },
  {
   "attachments": {},
   "cell_type": "markdown",
   "metadata": {},
   "source": [
    "#### Download & Extract Data"
   ]
  },
  {
   "cell_type": "code",
   "execution_count": null,
   "metadata": {
    "colab": {
     "base_uri": "https://localhost:8080/"
    },
    "id": "IMnEljkV7OWD",
    "outputId": "bd2de31f-ee36-47cb-f72f-7cc78e8e1b4a"
   },
   "outputs": [],
   "source": [
    "# # Change folder path to fit your setup\n",
    "# !mkdir /Data\n",
    "\n",
    "# # Download the pre-processed tissue dataset\n",
    "# !gdown 1jSP6oZ0tHceVM4VBVWJEt-0y9-DOtxtd --fuzzy -O /Data/MMSegTissueOzelot.zip\n",
    "\n",
    "# # Download the GT metdata and .cvs files\n",
    "# !gdown 120-hKUhmXDzcc18OgQuD2Z-THCIy4JWP --fuzzy -O /Data/GT.zip"
   ]
  },
  {
   "cell_type": "code",
   "execution_count": null,
   "metadata": {
    "colab": {
     "base_uri": "https://localhost:8080/"
    },
    "id": "MHVfOObGuUY3",
    "outputId": "2a23ffff-f205-4873-fdad-35375afd775d"
   },
   "outputs": [],
   "source": [
    "# !zip -FFv /Data/MMSegTissueOzelot.zip --out /Data/MMSegTissueOzelot_fixed.zip"
   ]
  },
  {
   "cell_type": "code",
   "execution_count": null,
   "metadata": {
    "colab": {
     "base_uri": "https://localhost:8080/"
    },
    "id": "LpAgOTIspiql",
    "outputId": "e796a251-b7cc-48a8-e47c-4a178c92e52a"
   },
   "outputs": [],
   "source": [
    "# !unzip /Data/MMSegTissueOzelot_fixed.zip -d /Data/MMSeg"
   ]
  },
  {
   "cell_type": "code",
   "execution_count": null,
   "metadata": {
    "colab": {
     "base_uri": "https://localhost:8080/"
    },
    "id": "KTWhSFaW-fiU",
    "outputId": "5be22c68-516d-4657-f4f9-39021dac03e2"
   },
   "outputs": [],
   "source": [
    "# !unzip /Data/GT.zip -d /Data/GT"
   ]
  },
  {
   "attachments": {},
   "cell_type": "markdown",
   "metadata": {},
   "source": [
    "### Load Dependencies"
   ]
  },
  {
   "cell_type": "code",
   "execution_count": null,
   "metadata": {
    "id": "3T9VntsJoqrm"
   },
   "outputs": [],
   "source": [
    "from typing import List, Sequence\n",
    "from pathlib import Path\n",
    "import wandb\n",
    "import json\n",
    "import pandas as pd\n",
    "from tqdm import tqdm\n",
    "\n",
    "# Check Pytorch installation\n",
    "import torch, torchvision\n",
    "import mmseg\n",
    "\n",
    "from mmengine import Config\n",
    "from mmengine.runner import set_random_seed\n",
    "from mmengine.device import get_device\n",
    "from mmengine.runner import Runner\n",
    "from mmengine.evaluator import BaseMetric\n",
    "\n",
    "from mmseg.registry import DATASETS, METRICS\n",
    "from mmseg.datasets import BaseSegDataset\n",
    "\n",
    "import mim"
   ]
  },
  {
   "cell_type": "code",
   "execution_count": null,
   "metadata": {
    "colab": {
     "base_uri": "https://localhost:8080/"
    },
    "id": "4vx1UOaEua4W",
    "outputId": "64fd77fa-be9f-4749-eebe-1a1d79a50fcf"
   },
   "outputs": [],
   "source": [
    "print(f\"Pytroch: {torch.__version__}, Cuda: {torch.cuda.is_available()}\")\n",
    "print(f\"MMSeg: {mmseg.__version__}\")\n"
   ]
  },
  {
   "attachments": {},
   "cell_type": "markdown",
   "metadata": {},
   "source": [
    "### Setup Parameters"
   ]
  },
  {
   "cell_type": "code",
   "execution_count": null,
   "metadata": {
    "id": "qPGV1na5oy_p"
   },
   "outputs": [],
   "source": [
    "CLASSES = (\n",
    "           #\"UNKOWN\",   # 0\n",
    "           \"BG\", # 1\n",
    "           \"TUMOR\", # 2\n",
    "        )\n",
    "\n",
    "\n",
    "PALETTE = [\n",
    "    #[0,0,0],   #\"UNKOWN\",   # 0\n",
    "    [0,255,0], #\"BG\", # 1\n",
    "    [255,0,0]  # \"TUMOR\", # 2\n",
    "]\n",
    "\n",
    "\n",
    "\n",
    "@DATASETS.register_module()\n",
    "class OZELOTDataset(BaseSegDataset):\n",
    "  METAINFO = dict(classes = CLASSES, palette = PALETTE)\n",
    "  def __init__(self, reduce_zero_label:bool=True, **kwargs):\n",
    "    super().__init__(img_suffix='', reduce_zero_label=reduce_zero_label, seg_map_suffix='', **kwargs)"
   ]
  },
  {
   "cell_type": "code",
   "execution_count": null,
   "metadata": {
    "id": "z9Cb016SsKXu"
   },
   "outputs": [],
   "source": [
    "num_classes = 3\n",
    "bs = 4\n",
    "dataset_type = 'OZELOTDataset'\n",
    "\n",
    "model_type = \"deeplabv3plus\" # deeplabv3plus  SegFormer\n",
    "\n",
    "if model_type == \"SegFormer\":\n",
    "    network_size = 1\n",
    "    experiment_name = f\"SegFormer_B{network_size}_IU_BS{bs}\"\n",
    "    model_name = f\"segformer_mit-b{network_size}_8xb1-160k_cityscapes-1024x1024\" #b0 - b5\n",
    "elif model_type == \"deeplabv3plus\":\n",
    "\n",
    "    network_size = \"r18b\"  # r18b (16), r50b (5), r101b ()  # 24GB\n",
    "    experiment_name = f\"Deeplabv3plus_{network_size}_IU_BS{bs}\"\n",
    "    model_name = f\"deeplabv3plus_{network_size}-d8_4xb2-80k_cityscapes-769x769\"\n",
    "\n",
    "data_root = '/host_Data/Datasets/MICCAI23-OcelotChallenge/MMSegTissue_False'\n",
    "csv_annotations_gt = \"/host_Data/Datasets/MICCAI23-OcelotChallenge/GT/annotations/train/cell\"\n",
    "metadata_path = \"/host_Data/Datasets/MICCAI23-OcelotChallenge/GT/metadata.json\"\n",
    "\n",
    "\n",
    "img_dir = 'img_dir/train'\n",
    "ann_dir = 'ann_dir/train'\n",
    "train_split = 'Folds/fold_0/train.txt'\n",
    "val_split = 'Folds/fold_0/valid.txt'\n",
    "work_dir = 'logs/tutorial'\n",
    "max_iters = 2000\n",
    "val_interval = 200"
   ]
  },
  {
   "attachments": {},
   "cell_type": "markdown",
   "metadata": {},
   "source": [
    "### Setup Metric"
   ]
  },
  {
   "cell_type": "code",
   "execution_count": null,
   "metadata": {
    "id": "adQVNf-k30sD"
   },
   "outputs": [],
   "source": [
    "from sklearn.metrics import f1_score, accuracy_score\n",
    "import numpy as np\n",
    "from typing import Dict, List, Optional, Sequence\n",
    "@METRICS.register_module()\n",
    "class F1_OCELOTSegmentationScoreMetric(BaseMetric):\n",
    "    def __init__(self, csv_annotation_folder: str, metadata_path: str,\n",
    "                 collect_device: str = 'cpu', prefix: Optional[str] = 'OCELOT'):\n",
    "        \"\"\"\n",
    "        The metric first processes each batch of data_samples and predictions,\n",
    "        and appends the processed results to the results list. Then it\n",
    "        collects all results together from all ranks if distributed training\n",
    "        is used. Finally, it computes the metrics of the entire dataset.\n",
    "        \"\"\"\n",
    "        super().__init__(collect_device=collect_device, prefix=prefix)\n",
    "\n",
    "        csv_annotation_folder = Path(csv_annotation_folder) if isinstance(csv_annotation_folder, str) else csv_annotation_folder\n",
    "        self.gt_dfs = {p.stem: pd.read_csv(p, names=[\"x\", \"y\", \"tumor\"]) for p in tqdm(list(csv_annotation_folder.glob(\"*.csv\")), desc=\"Loading GT for the F1-Metric\")}\n",
    "\n",
    "        self.meta_data = json.load(open(metadata_path, \"r\"))[\"sample_pairs\"]\n",
    "\n",
    "\n",
    "\n",
    "    def process(self, data_batch: dict, data_samples: Sequence[dict]) -> None:\n",
    "        \"\"\"Process one batch of data and data_samples.\n",
    "\n",
    "        The processed results should be stored in ``self.results``, which will\n",
    "        be used to compute the metrics when all batches have been processed.\n",
    "\n",
    "        Args:\n",
    "            data_batch (dict): A batch of data from the dataloader.\n",
    "            data_samples (Sequence[dict]): A batch of outputs from the model.\n",
    "        \"\"\"\n",
    "\n",
    "        for data_sample  in data_samples:\n",
    "\n",
    "            gt_id = Path(data_sample[\"img_path\"]).stem\n",
    "            df = self.gt_dfs[gt_id]\n",
    "\n",
    "            # Continue, if the file has no ground truth cells\n",
    "            if len(df) == 0: continue\n",
    "\n",
    "            image_meta = self.meta_data[gt_id]\n",
    "\n",
    "            cell_x_start = image_meta[\"cell\"][\"x_start\"]\n",
    "            cell_y_start = image_meta[\"cell\"][\"y_start\"]\n",
    "\n",
    "            cell_x_end = image_meta[\"cell\"][\"x_end\"]\n",
    "            cell_y_end = image_meta[\"cell\"][\"y_end\"]\n",
    "\n",
    "            tissue_x_start = image_meta[\"tissue\"][\"x_start\"]\n",
    "            tissue_y_start = image_meta[\"tissue\"][\"y_start\"]\n",
    "\n",
    "            tissue_x_end = image_meta[\"tissue\"][\"x_end\"]\n",
    "            tissue_y_end = image_meta[\"tissue\"][\"y_end\"]\n",
    "\n",
    "            # compute the relative coordinates of the cell patch with respect to the tissue patch\n",
    "            mask_x_start_rel = (cell_x_start-tissue_x_start) / (tissue_x_end-tissue_x_start)\n",
    "            mask_y_start_rel = (cell_y_start-tissue_y_start) / (tissue_y_end-tissue_y_start)\n",
    "\n",
    "\n",
    "            mask_x_end_rel = (cell_x_end-tissue_x_start) / (tissue_x_end-tissue_x_start)\n",
    "            mask_y_end_rel = (cell_y_end-tissue_y_start) / (tissue_y_end-tissue_y_start)\n",
    "\n",
    "            # Compute the absolute coordinates of the cell patch with respect to the tissue patch\n",
    "            mask_x_start_abs = round(mask_x_start_rel * 1024) # Todo: replace 1024 with the actual size of the tissue patch\n",
    "            mask_y_start_abs = round(mask_y_start_rel * 1024) # Todo: replace 1024 with the actual size of the tissue patch\n",
    "\n",
    "            mask_x_end_abs = round(mask_x_end_rel * 1024) # Todo: replace 1024 with the actual size of the tissue patch\n",
    "            mask_y_end_abs = round(mask_y_end_rel * 1024) # Todo: replace 1024 with the actual size of the tissue patch\n",
    "\n",
    "            # Campute the with and height and the cell patch with respect to the tissue patch\n",
    "            mask_width_rel  = 1024 / (mask_x_end_abs - mask_x_start_abs)\n",
    "            mask_height_rel = 1024 / (mask_y_end_abs - mask_y_start_abs)\n",
    "\n",
    "\n",
    "            num_tp_bg = 0\n",
    "            num_fp_bg = 0\n",
    "            num_gt_bg = 0\n",
    "\n",
    "            num_tp_tc = 0\n",
    "            num_fp_tc = 0\n",
    "            num_gt_tc = 0\n",
    "\n",
    "            # Compute the absolute coordinates of the cell patch with respect to the tissue patch\n",
    "            for _, row in df.iterrows():\n",
    "\n",
    "                x, y = mask_x_start_abs + round(row[\"x\"] / mask_width_rel), mask_y_start_abs + round(row[\"y\"] / mask_height_rel)\n",
    "                gt_label = int(row[\"tumor\"])\n",
    "\n",
    "                if gt_label == 0:\n",
    "                    raise ValueError(\"The label of the ground truth is 0, which is not allowed. Please check the csv file.\")\n",
    "\n",
    "                # extract the label of the predicted segmentation in an area of two pixels around the cell\n",
    "                slice = data_sample[\"pred_sem_seg\"][\"data\"][0, max(0, y-2):min(1024, y+2), max(0, x-2): min(1024, x+2)]\n",
    "                if slice.shape[0] == 0 or slice.shape[1] == 0:\n",
    "                    raise ValueError(\"The size of the slice is 0. Please check the csv file.\")\n",
    "\n",
    "                pred_label = int(slice.median()) + 1\n",
    "\n",
    "\n",
    "                # Compute the image statistics for the background cell\n",
    "                if gt_label == 1:\n",
    "                    num_gt_bg += 1\n",
    "                    if pred_label == 1:\n",
    "                        num_tp_bg += 1\n",
    "                    else:\n",
    "                        num_fp_bg += 1\n",
    "\n",
    "                # Compute the image statistics for the tumor cell\n",
    "                if gt_label == 2:\n",
    "                    num_gt_tc += 1\n",
    "                    if pred_label == 2:\n",
    "                        num_tp_tc += 1\n",
    "                    else:\n",
    "                        num_fp_tc += 1\n",
    "\n",
    "\n",
    "            self.results.append((num_tp_bg, num_fp_bg, num_gt_bg, num_tp_tc, num_fp_tc, num_gt_tc))\n",
    "\n",
    "    def compute_metrics(self, results: list) -> dict:\n",
    "        \"\"\"Compute the metrics from processed results.\n",
    "\n",
    "        Args:\n",
    "            results (list): The processed results of each batch.\n",
    "\n",
    "        Returns:\n",
    "            Dict[str, float]: The computed metrics. The keys are the names of\n",
    "                the metrics, and the values are corresponding results. The key\n",
    "                mainly includes aAcc, mIoU, mAcc, mDice, mFscore, mPrecision,\n",
    "                mRecall.\n",
    "        \"\"\"\n",
    "\n",
    "        global_num_tp_bg, global_num_fp_bg, global_num_gt_bg, global_num_tp_tc, global_num_fp_tc, global_num_gt_tc = np.sum(np.array(results), axis=0)\n",
    "\n",
    "        precision_bg = global_num_tp_bg / (global_num_tp_bg + global_num_fp_bg + 1e-7)\n",
    "        recall_bg = global_num_tp_bg / (global_num_gt_bg + 1e-7)\n",
    "        f1_bg = 2 * precision_bg * recall_bg / (precision_bg + recall_bg + 1e-7)\n",
    "\n",
    "        precision_tc = global_num_tp_tc / (global_num_tp_tc + global_num_fp_tc + 1e-7)\n",
    "        recall_tc = global_num_tp_tc / (global_num_gt_tc + 1e-7)\n",
    "        f1_tc = 2 * precision_tc * recall_tc / (precision_tc + recall_tc + 1e-7)\n",
    "\n",
    "        metrics = {\n",
    "            'mF1': (f1_bg + f1_tc) / 2,\n",
    "\n",
    "            'Pre/BC': precision_bg,\n",
    "            'Rec/BC': recall_bg,\n",
    "            'F1/BC': f1_bg,\n",
    "            'Pre/TC': precision_tc,\n",
    "            'Rec/TC': recall_tc,\n",
    "            'F1/TC': f1_tc,\n",
    "\n",
    "        }\n",
    "        return metrics"
   ]
  },
  {
   "attachments": {},
   "cell_type": "markdown",
   "metadata": {},
   "source": [
    "### Prepare Pipeline"
   ]
  },
  {
   "cell_type": "code",
   "execution_count": null,
   "metadata": {
    "colab": {
     "base_uri": "https://localhost:8080/"
    },
    "id": "ZoGFJML8sUpm",
    "outputId": "d094b5c4-817e-47ab-f534-c6e0211cdfde"
   },
   "outputs": [],
   "source": [
    "# Download the model config and weights\n",
    "ckp_path = mim.download(package=\"mmsegmentation\", configs=[model_name], dest_root=\"models\")[0]\n",
    "Path(work_dir).mkdir(exist_ok=True, parents=True)"
   ]
  },
  {
   "cell_type": "code",
   "execution_count": null,
   "metadata": {
    "id": "eH5zgACnsKaV"
   },
   "outputs": [],
   "source": [
    "cfg = Config.fromfile(f\"models/{model_name}.py\")\n",
    "#cfg.compile = True\n",
    "cfg.amp = True\n",
    "\n",
    "#cfg.auto-scale-lr\n",
    "\n",
    "# Set seed to facitate reproducing the result\n",
    "cfg[\"experiment_name\"] = experiment_name\n",
    "cfg['randomness'] = dict(seed=0)\n",
    "set_random_seed(0, deterministic=False)\n",
    "cfg.gpu_ids = range(1)\n",
    "cfg.device = get_device()\n",
    "\n",
    "\n",
    "# Modify dataset type and path\n",
    "cfg.dataset_type = dataset_type\n",
    "cfg.data_root = data_root\n",
    "\n",
    "cfg.model.backbone.init_cfg = None # Remove the pretrained weights from the backbone\n",
    "cfg.load_from = f\"models/{ckp_path}\" # Load the pre-trained model including the backbone weights"
   ]
  },
  {
   "cell_type": "code",
   "execution_count": null,
   "metadata": {
    "id": "5Yt0NHEVsYNF"
   },
   "outputs": [],
   "source": [
    "# Gut feeling that GN works better than BN. !Check!\n",
    "#cfg.model.decode_head.norm_cfg = dict(type='GN', num_groups=32, requires_grad=True)\n",
    "cfg.model.decode_head.num_classes = num_classes\n",
    "#cfg.model.decode_head.ignore_index = 0 # Ignore index zero for loss calculation (unlabeld data)\n",
    "\n",
    "class_weights = [\n",
    "  1., #\"BG\"\n",
    "  1., #\"TUMOR\"\n",
    "  1., #\"UNKOWN\"\n",
    "]\n",
    "cfg.model.decode_head.loss_decode = [\n",
    "                                        dict(type='CrossEntropyLoss', loss_name='loss_ce', loss_weight=1.0, class_weight=class_weights, avg_non_ignore=True ),\n",
    "                                        #dict(type='LovaszLoss', loss_name='loss_lovasz', loss_weight=3.0, reduction='none', class_weight=class_weights),\n",
    "                                        #dict(type='FocalLoss', loss_name='focal_loss', loss_weight=1.0, reduction='mean', class_weight=class_weights)\n",
    "                                    ]"
   ]
  },
  {
   "cell_type": "code",
   "execution_count": null,
   "metadata": {
    "id": "SWFC0bxes4YG"
   },
   "outputs": [],
   "source": [
    "# RandomCutOut, RandomMosaic\n",
    "# https://github.com/open-mmlab/mmsegmentation/blob/6c3e63e48b8f94a64ac5b1d88cab6fca005ae269/mmseg/datasets/pipelines/__init__.py\n",
    "# RandomMosaic?\n",
    "train_pipeline = [\n",
    "    dict(type='LoadImageFromFile'),\n",
    "    dict(type='LoadAnnotations'),\n",
    "    #dict(type='RandomMosaic', prob=0.2), #https://github.com/open-mmlab/mmsegmentation/blob/e64548fda0221ad708f5da29dc907e51a644c345/docs/zh_cn/advanced_guides/add_datasets.md\n",
    "    #dict(\n",
    "    #    type='RandomResize',\n",
    "    #    scale=(2048, 1024),\n",
    "    #    ratio_range=(0.5, 1.0),\n",
    "    #    keep_ratio=True),\n",
    "    dict(type='RandomCrop', crop_size=(1024, 1024), cat_max_ratio=0.75),\n",
    "    dict(type='RandomFlip', prob=0.5),\n",
    "    #dict(type='BioMedicalRandomGamma', prob=0.5),\n",
    "    dict(type='RandomFlip', direction=\"vertical\", prob=0.5),\n",
    "    dict(type='RandomRotate', degree=(-45, 45), prob=0.5),\n",
    "    dict(type='PhotoMetricDistortion'),\n",
    "    dict(type='PackSegInputs')\n",
    "]\n",
    "\n",
    "cfg.test_pipeline = [\n",
    "    dict(type='LoadImageFromFile'),\n",
    "    dict(type='Resize', scale=(1024, 1024), keep_ratio=True),\n",
    "    dict(type='LoadAnnotations'),\n",
    "    dict(type='PackSegInputs')\n",
    "]\n",
    "cfg.tta_pipeline = [\n",
    "    dict(type='LoadImageFromFile', backend_args=None),\n",
    "    dict(\n",
    "        type='TestTimeAug',\n",
    "        transforms=[\n",
    "            [\n",
    "                dict(type='Resize', scale_factor=r, keep_ratio=True)\n",
    "                for r in [1]\n",
    "            ],\n",
    "            [\n",
    "                dict(type='RandomFlip', prob=0., direction='horizontal'),\n",
    "                dict(type='RandomFlip', prob=1., direction='horizontal'),\n",
    "                dict(type='RandomFlip', prob=0., direction='vertical'),\n",
    "                dict(type='RandomFlip', prob=1., direction='vertical')\n",
    "            ],\n",
    "            [dict(type='LoadAnnotations')],\n",
    "        ])\n",
    "]"
   ]
  },
  {
   "cell_type": "code",
   "execution_count": null,
   "metadata": {
    "id": "ppnXp9BZs9mF"
   },
   "outputs": [],
   "source": [
    "\n",
    "cfg.train_dataloader.batch_size = bs\n",
    "#cfg.train_dataloader.num_workers = bs * 2\n",
    "cfg.train_dataloader.dataset.type = cfg.dataset_type\n",
    "cfg.train_dataloader.dataset.data_root = cfg.data_root\n",
    "cfg.train_dataloader.dataset.data_prefix = dict(img_path=img_dir, seg_map_path=ann_dir)\n",
    "cfg.train_dataloader.dataset.pipeline = train_pipeline\n",
    "cfg.train_dataloader.dataset.ann_file = train_split\n",
    "\n",
    "cfg.val_dataloader.batch_size = 1\n",
    "#cfg.val_dataloader.num_workers = bs * 2\n",
    "cfg.val_dataloader.dataset.type = cfg.dataset_type\n",
    "cfg.val_dataloader.dataset.data_root = cfg.data_root\n",
    "cfg.val_dataloader.dataset.data_prefix = dict(img_path=img_dir, seg_map_path=ann_dir)\n",
    "cfg.val_dataloader.dataset.pipeline = cfg.test_pipeline\n",
    "cfg.val_dataloader.dataset.ann_file = val_split\n",
    "\n",
    "cfg.test_dataloader.batch_size = 1\n",
    "#cfg.test_dataloader.num_workers = bs * 2\n",
    "cfg.test_dataloader.dataset.type = cfg.dataset_type\n",
    "cfg.test_dataloader.dataset.data_root = cfg.data_root\n",
    "cfg.test_dataloader.dataset.data_prefix = dict(img_path=img_dir, seg_map_path=ann_dir)\n",
    "cfg.val_dataloader.dataset.pipeline = cfg.test_pipeline\n",
    "cfg.test_dataloader.dataset.ann_file = val_split"
   ]
  },
  {
   "cell_type": "code",
   "execution_count": null,
   "metadata": {
    "id": "2o3QqjDytCu9"
   },
   "outputs": [],
   "source": [
    "# Set up working dir to save files and logs.\n",
    "cfg.work_dir = work_dir\n",
    "\n",
    "optimizer = dict(type='SGD', lr=0.01, momentum=0.9, weight_decay=0.0005)\n",
    "if cfg.amp:\n",
    "    cfg.optim_wrapper = dict(type='AmpOptimWrapper', optimizer=optimizer, clip_grad=None, loss_scale='dynamic')\n",
    "else:\n",
    "    cfg.optim_wrapper = dict(type='OptimWrapper', optimizer=optimizer, clip_grad=None)\n",
    "\n",
    "cfg.param_scheduler = [\n",
    "    dict(\n",
    "        type='PolyLR',\n",
    "        eta_min=1e-4,\n",
    "        power=0.9,\n",
    "        begin=0,\n",
    "        end=max_iters,\n",
    "        by_epoch=False)\n",
    "]\n",
    "\n",
    "cfg.train_cfg = dict(type='IterBasedTrainLoop', max_iters=max_iters, val_interval=val_interval)\n",
    "cfg.default_hooks.visualization = dict(type='SegVisualizationHook', draw=True)\n",
    "\n",
    "# https://github.com/open-mmlab/mmengine/blob/main/mmengine/hooks/checkpoint_hook.py\n",
    "vis_backends = [dict(type='LocalVisBackend'),\n",
    "                # dict(type='TensorboardVisBackend'),  # Apparently can only run 1 metrics visualizer at a time\n",
    "                dict(type='WandbVisBackend')]\n",
    "cfg.default_hooks.checkpoint = dict(type='CheckpointHook', by_epoch=True, save_best=['MMSeg/mAcc', \"OCELOT/mF1\"], rule='greater')\n",
    "cfg.visualizer  = dict(type='SegLocalVisualizer', vis_backends=vis_backends, name='visualizer')\n",
    "\n",
    "cfg.val_evaluator = [\n",
    "   dict(type='IoUMetric', iou_metrics=['mIoU'], prefix=\"MMSeg\"),\n",
    "   dict(type='F1_OCELOTSegmentationScoreMetric', csv_annotation_folder=csv_annotations_gt, metadata_path=metadata_path)\n",
    "   ]\n",
    "cfg.test_evaluator = cfg.val_evaluator"
   ]
  },
  {
   "cell_type": "code",
   "execution_count": null,
   "metadata": {
    "id": "aFYAes38Kc9G"
   },
   "outputs": [],
   "source": [
    "cfg.dump(f\"{experiment_name}_config.py\")"
   ]
  },
  {
   "attachments": {},
   "cell_type": "markdown",
   "metadata": {},
   "source": [
    "### Initialize WandB"
   ]
  },
  {
   "cell_type": "code",
   "execution_count": null,
   "metadata": {
    "colab": {
     "base_uri": "https://localhost:8080/"
    },
    "id": "CJ8SgEMqxTdW",
    "outputId": "674cc531-88e6-48df-cad6-2b1d13a8acfb"
   },
   "outputs": [],
   "source": [
    "# !wandb login --relogin\n",
    "wandb.login()"
   ]
  },
  {
   "cell_type": "code",
   "execution_count": null,
   "metadata": {
    "colab": {
     "base_uri": "https://localhost:8080/",
     "height": 621,
     "referenced_widgets": [
      "28622a8e73b04875b1285709682fe751",
      "d51246dffbb64047a2f445c2c91f7b49",
      "4fb44c2bc26c4000a464c253a04ac4b4",
      "e26b7177465841c18eac50e021d1a0c2",
      "e94f729ee38b4193bff8c399f2b7484c",
      "5d977ac2c7c34b89a8d3aeebfe4caf8b",
      "1c903a951400447dad8e462e63565c19",
      "bc2f5ed51808491e8b8ec01341d71365"
     ]
    },
    "id": "HUD26reaY4zZ",
    "outputId": "adecaeff-17fa-44f3-a909-de4874ae425e"
   },
   "outputs": [],
   "source": [
    "wandb.init(project=\"MMSegOZELOT\", name=experiment_name, config=cfg, entity=\"bnapora\",\n",
    "           save_code=True, mode=\"online\", settings=wandb.Settings(start_method=\"thread\")) #, mode=\"offline\""
   ]
  },
  {
   "attachments": {},
   "cell_type": "markdown",
   "metadata": {},
   "source": [
    "### Run Training Loop"
   ]
  },
  {
   "cell_type": "code",
   "execution_count": null,
   "metadata": {
    "colab": {
     "base_uri": "https://localhost:8080/"
    },
    "id": "gYUgsY3xfohc",
    "outputId": "bf9c3ba5-0819-4ca7-c3c0-e455b29c6971"
   },
   "outputs": [],
   "source": [
    "runner = Runner.from_cfg(cfg)"
   ]
  },
  {
   "cell_type": "code",
   "execution_count": null,
   "metadata": {
    "colab": {
     "base_uri": "https://localhost:8080/",
     "height": 1000,
     "referenced_widgets": [
      "892b7e644da04b358c81fb2170ec79a2",
      "fdd2ddd5a2234e2782d69875429c42c6",
      "7f3d980c6dd54804a5b0a2a897e881f0",
      "b2cc559c94f74ff6842dbd97f53e7398",
      "f74449778f4b4e0eaf8c639be1b1085f",
      "39b6d52b62734888a7b6f3adab34a30b",
      "c23152d814f14f90ad8ebdca4a04c8ec",
      "9a41324d29bc4223960885e171e801d6"
     ]
    },
    "id": "dRgoutoK8rfw",
    "outputId": "146fffba-5d5b-4bfd-bc9c-d62ee555f2cc"
   },
   "outputs": [],
   "source": [
    "runner.train()"
   ]
  },
  {
   "cell_type": "code",
   "execution_count": null,
   "metadata": {
    "id": "UyV3U4qd-qlY"
   },
   "outputs": [],
   "source": []
  }
 ],
 "metadata": {
  "accelerator": "GPU",
  "colab": {
   "gpuType": "T4",
   "machine_shape": "hm",
   "provenance": []
  },
  "kernelspec": {
   "display_name": "(venv) ocelot-dev",
   "language": "python",
   "name": "ocelot-dev"
  },
  "language_info": {
   "codemirror_mode": {
    "name": "ipython",
    "version": 3
   },
   "file_extension": ".py",
   "mimetype": "text/x-python",
   "name": "python",
   "nbconvert_exporter": "python",
   "pygments_lexer": "ipython3",
   "version": "3.11.4"
  },
  "widgets": {
   "application/vnd.jupyter.widget-state+json": {
    "1c903a951400447dad8e462e63565c19": {
     "model_module": "@jupyter-widgets/base",
     "model_module_version": "1.2.0",
     "model_name": "LayoutModel",
     "state": {
      "_model_module": "@jupyter-widgets/base",
      "_model_module_version": "1.2.0",
      "_model_name": "LayoutModel",
      "_view_count": null,
      "_view_module": "@jupyter-widgets/base",
      "_view_module_version": "1.2.0",
      "_view_name": "LayoutView",
      "align_content": null,
      "align_items": null,
      "align_self": null,
      "border": null,
      "bottom": null,
      "display": null,
      "flex": null,
      "flex_flow": null,
      "grid_area": null,
      "grid_auto_columns": null,
      "grid_auto_flow": null,
      "grid_auto_rows": null,
      "grid_column": null,
      "grid_gap": null,
      "grid_row": null,
      "grid_template_areas": null,
      "grid_template_columns": null,
      "grid_template_rows": null,
      "height": null,
      "justify_content": null,
      "justify_items": null,
      "left": null,
      "margin": null,
      "max_height": null,
      "max_width": null,
      "min_height": null,
      "min_width": null,
      "object_fit": null,
      "object_position": null,
      "order": null,
      "overflow": null,
      "overflow_x": null,
      "overflow_y": null,
      "padding": null,
      "right": null,
      "top": null,
      "visibility": null,
      "width": null
     }
    },
    "28622a8e73b04875b1285709682fe751": {
     "model_module": "@jupyter-widgets/controls",
     "model_module_version": "1.5.0",
     "model_name": "VBoxModel",
     "state": {
      "_dom_classes": [],
      "_model_module": "@jupyter-widgets/controls",
      "_model_module_version": "1.5.0",
      "_model_name": "VBoxModel",
      "_view_count": null,
      "_view_module": "@jupyter-widgets/controls",
      "_view_module_version": "1.5.0",
      "_view_name": "VBoxView",
      "box_style": "",
      "children": [
       "IPY_MODEL_d51246dffbb64047a2f445c2c91f7b49",
       "IPY_MODEL_4fb44c2bc26c4000a464c253a04ac4b4"
      ],
      "layout": "IPY_MODEL_e26b7177465841c18eac50e021d1a0c2"
     }
    },
    "39b6d52b62734888a7b6f3adab34a30b": {
     "model_module": "@jupyter-widgets/controls",
     "model_module_version": "1.5.0",
     "model_name": "DescriptionStyleModel",
     "state": {
      "_model_module": "@jupyter-widgets/controls",
      "_model_module_version": "1.5.0",
      "_model_name": "DescriptionStyleModel",
      "_view_count": null,
      "_view_module": "@jupyter-widgets/base",
      "_view_module_version": "1.2.0",
      "_view_name": "StyleView",
      "description_width": ""
     }
    },
    "4fb44c2bc26c4000a464c253a04ac4b4": {
     "model_module": "@jupyter-widgets/controls",
     "model_module_version": "1.5.0",
     "model_name": "FloatProgressModel",
     "state": {
      "_dom_classes": [],
      "_model_module": "@jupyter-widgets/controls",
      "_model_module_version": "1.5.0",
      "_model_name": "FloatProgressModel",
      "_view_count": null,
      "_view_module": "@jupyter-widgets/controls",
      "_view_module_version": "1.5.0",
      "_view_name": "ProgressView",
      "bar_style": "",
      "description": "",
      "description_tooltip": null,
      "layout": "IPY_MODEL_1c903a951400447dad8e462e63565c19",
      "max": 1,
      "min": 0,
      "orientation": "horizontal",
      "style": "IPY_MODEL_bc2f5ed51808491e8b8ec01341d71365",
      "value": 0.5170063773915218
     }
    },
    "5d977ac2c7c34b89a8d3aeebfe4caf8b": {
     "model_module": "@jupyter-widgets/controls",
     "model_module_version": "1.5.0",
     "model_name": "DescriptionStyleModel",
     "state": {
      "_model_module": "@jupyter-widgets/controls",
      "_model_module_version": "1.5.0",
      "_model_name": "DescriptionStyleModel",
      "_view_count": null,
      "_view_module": "@jupyter-widgets/base",
      "_view_module_version": "1.2.0",
      "_view_name": "StyleView",
      "description_width": ""
     }
    },
    "7f3d980c6dd54804a5b0a2a897e881f0": {
     "model_module": "@jupyter-widgets/controls",
     "model_module_version": "1.5.0",
     "model_name": "FloatProgressModel",
     "state": {
      "_dom_classes": [],
      "_model_module": "@jupyter-widgets/controls",
      "_model_module_version": "1.5.0",
      "_model_name": "FloatProgressModel",
      "_view_count": null,
      "_view_module": "@jupyter-widgets/controls",
      "_view_module_version": "1.5.0",
      "_view_name": "ProgressView",
      "bar_style": "",
      "description": "",
      "description_tooltip": null,
      "layout": "IPY_MODEL_c23152d814f14f90ad8ebdca4a04c8ec",
      "max": 1,
      "min": 0,
      "orientation": "horizontal",
      "style": "IPY_MODEL_9a41324d29bc4223960885e171e801d6",
      "value": 1
     }
    },
    "892b7e644da04b358c81fb2170ec79a2": {
     "model_module": "@jupyter-widgets/controls",
     "model_module_version": "1.5.0",
     "model_name": "VBoxModel",
     "state": {
      "_dom_classes": [],
      "_model_module": "@jupyter-widgets/controls",
      "_model_module_version": "1.5.0",
      "_model_name": "VBoxModel",
      "_view_count": null,
      "_view_module": "@jupyter-widgets/controls",
      "_view_module_version": "1.5.0",
      "_view_name": "VBoxView",
      "box_style": "",
      "children": [
       "IPY_MODEL_fdd2ddd5a2234e2782d69875429c42c6",
       "IPY_MODEL_7f3d980c6dd54804a5b0a2a897e881f0"
      ],
      "layout": "IPY_MODEL_b2cc559c94f74ff6842dbd97f53e7398"
     }
    },
    "9a41324d29bc4223960885e171e801d6": {
     "model_module": "@jupyter-widgets/controls",
     "model_module_version": "1.5.0",
     "model_name": "ProgressStyleModel",
     "state": {
      "_model_module": "@jupyter-widgets/controls",
      "_model_module_version": "1.5.0",
      "_model_name": "ProgressStyleModel",
      "_view_count": null,
      "_view_module": "@jupyter-widgets/base",
      "_view_module_version": "1.2.0",
      "_view_name": "StyleView",
      "bar_color": null,
      "description_width": ""
     }
    },
    "b2cc559c94f74ff6842dbd97f53e7398": {
     "model_module": "@jupyter-widgets/base",
     "model_module_version": "1.2.0",
     "model_name": "LayoutModel",
     "state": {
      "_model_module": "@jupyter-widgets/base",
      "_model_module_version": "1.2.0",
      "_model_name": "LayoutModel",
      "_view_count": null,
      "_view_module": "@jupyter-widgets/base",
      "_view_module_version": "1.2.0",
      "_view_name": "LayoutView",
      "align_content": null,
      "align_items": null,
      "align_self": null,
      "border": null,
      "bottom": null,
      "display": null,
      "flex": null,
      "flex_flow": null,
      "grid_area": null,
      "grid_auto_columns": null,
      "grid_auto_flow": null,
      "grid_auto_rows": null,
      "grid_column": null,
      "grid_gap": null,
      "grid_row": null,
      "grid_template_areas": null,
      "grid_template_columns": null,
      "grid_template_rows": null,
      "height": null,
      "justify_content": null,
      "justify_items": null,
      "left": null,
      "margin": null,
      "max_height": null,
      "max_width": null,
      "min_height": null,
      "min_width": null,
      "object_fit": null,
      "object_position": null,
      "order": null,
      "overflow": null,
      "overflow_x": null,
      "overflow_y": null,
      "padding": null,
      "right": null,
      "top": null,
      "visibility": null,
      "width": null
     }
    },
    "bc2f5ed51808491e8b8ec01341d71365": {
     "model_module": "@jupyter-widgets/controls",
     "model_module_version": "1.5.0",
     "model_name": "ProgressStyleModel",
     "state": {
      "_model_module": "@jupyter-widgets/controls",
      "_model_module_version": "1.5.0",
      "_model_name": "ProgressStyleModel",
      "_view_count": null,
      "_view_module": "@jupyter-widgets/base",
      "_view_module_version": "1.2.0",
      "_view_name": "StyleView",
      "bar_color": null,
      "description_width": ""
     }
    },
    "c23152d814f14f90ad8ebdca4a04c8ec": {
     "model_module": "@jupyter-widgets/base",
     "model_module_version": "1.2.0",
     "model_name": "LayoutModel",
     "state": {
      "_model_module": "@jupyter-widgets/base",
      "_model_module_version": "1.2.0",
      "_model_name": "LayoutModel",
      "_view_count": null,
      "_view_module": "@jupyter-widgets/base",
      "_view_module_version": "1.2.0",
      "_view_name": "LayoutView",
      "align_content": null,
      "align_items": null,
      "align_self": null,
      "border": null,
      "bottom": null,
      "display": null,
      "flex": null,
      "flex_flow": null,
      "grid_area": null,
      "grid_auto_columns": null,
      "grid_auto_flow": null,
      "grid_auto_rows": null,
      "grid_column": null,
      "grid_gap": null,
      "grid_row": null,
      "grid_template_areas": null,
      "grid_template_columns": null,
      "grid_template_rows": null,
      "height": null,
      "justify_content": null,
      "justify_items": null,
      "left": null,
      "margin": null,
      "max_height": null,
      "max_width": null,
      "min_height": null,
      "min_width": null,
      "object_fit": null,
      "object_position": null,
      "order": null,
      "overflow": null,
      "overflow_x": null,
      "overflow_y": null,
      "padding": null,
      "right": null,
      "top": null,
      "visibility": null,
      "width": null
     }
    },
    "d51246dffbb64047a2f445c2c91f7b49": {
     "model_module": "@jupyter-widgets/controls",
     "model_module_version": "1.5.0",
     "model_name": "LabelModel",
     "state": {
      "_dom_classes": [],
      "_model_module": "@jupyter-widgets/controls",
      "_model_module_version": "1.5.0",
      "_model_name": "LabelModel",
      "_view_count": null,
      "_view_module": "@jupyter-widgets/controls",
      "_view_module_version": "1.5.0",
      "_view_name": "LabelView",
      "description": "",
      "description_tooltip": null,
      "layout": "IPY_MODEL_e94f729ee38b4193bff8c399f2b7484c",
      "placeholder": "​",
      "style": "IPY_MODEL_5d977ac2c7c34b89a8d3aeebfe4caf8b",
      "value": "0.024 MB of 0.046 MB uploaded (0.022 MB deduped)\r"
     }
    },
    "e26b7177465841c18eac50e021d1a0c2": {
     "model_module": "@jupyter-widgets/base",
     "model_module_version": "1.2.0",
     "model_name": "LayoutModel",
     "state": {
      "_model_module": "@jupyter-widgets/base",
      "_model_module_version": "1.2.0",
      "_model_name": "LayoutModel",
      "_view_count": null,
      "_view_module": "@jupyter-widgets/base",
      "_view_module_version": "1.2.0",
      "_view_name": "LayoutView",
      "align_content": null,
      "align_items": null,
      "align_self": null,
      "border": null,
      "bottom": null,
      "display": null,
      "flex": null,
      "flex_flow": null,
      "grid_area": null,
      "grid_auto_columns": null,
      "grid_auto_flow": null,
      "grid_auto_rows": null,
      "grid_column": null,
      "grid_gap": null,
      "grid_row": null,
      "grid_template_areas": null,
      "grid_template_columns": null,
      "grid_template_rows": null,
      "height": null,
      "justify_content": null,
      "justify_items": null,
      "left": null,
      "margin": null,
      "max_height": null,
      "max_width": null,
      "min_height": null,
      "min_width": null,
      "object_fit": null,
      "object_position": null,
      "order": null,
      "overflow": null,
      "overflow_x": null,
      "overflow_y": null,
      "padding": null,
      "right": null,
      "top": null,
      "visibility": null,
      "width": null
     }
    },
    "e94f729ee38b4193bff8c399f2b7484c": {
     "model_module": "@jupyter-widgets/base",
     "model_module_version": "1.2.0",
     "model_name": "LayoutModel",
     "state": {
      "_model_module": "@jupyter-widgets/base",
      "_model_module_version": "1.2.0",
      "_model_name": "LayoutModel",
      "_view_count": null,
      "_view_module": "@jupyter-widgets/base",
      "_view_module_version": "1.2.0",
      "_view_name": "LayoutView",
      "align_content": null,
      "align_items": null,
      "align_self": null,
      "border": null,
      "bottom": null,
      "display": null,
      "flex": null,
      "flex_flow": null,
      "grid_area": null,
      "grid_auto_columns": null,
      "grid_auto_flow": null,
      "grid_auto_rows": null,
      "grid_column": null,
      "grid_gap": null,
      "grid_row": null,
      "grid_template_areas": null,
      "grid_template_columns": null,
      "grid_template_rows": null,
      "height": null,
      "justify_content": null,
      "justify_items": null,
      "left": null,
      "margin": null,
      "max_height": null,
      "max_width": null,
      "min_height": null,
      "min_width": null,
      "object_fit": null,
      "object_position": null,
      "order": null,
      "overflow": null,
      "overflow_x": null,
      "overflow_y": null,
      "padding": null,
      "right": null,
      "top": null,
      "visibility": null,
      "width": null
     }
    },
    "f74449778f4b4e0eaf8c639be1b1085f": {
     "model_module": "@jupyter-widgets/base",
     "model_module_version": "1.2.0",
     "model_name": "LayoutModel",
     "state": {
      "_model_module": "@jupyter-widgets/base",
      "_model_module_version": "1.2.0",
      "_model_name": "LayoutModel",
      "_view_count": null,
      "_view_module": "@jupyter-widgets/base",
      "_view_module_version": "1.2.0",
      "_view_name": "LayoutView",
      "align_content": null,
      "align_items": null,
      "align_self": null,
      "border": null,
      "bottom": null,
      "display": null,
      "flex": null,
      "flex_flow": null,
      "grid_area": null,
      "grid_auto_columns": null,
      "grid_auto_flow": null,
      "grid_auto_rows": null,
      "grid_column": null,
      "grid_gap": null,
      "grid_row": null,
      "grid_template_areas": null,
      "grid_template_columns": null,
      "grid_template_rows": null,
      "height": null,
      "justify_content": null,
      "justify_items": null,
      "left": null,
      "margin": null,
      "max_height": null,
      "max_width": null,
      "min_height": null,
      "min_width": null,
      "object_fit": null,
      "object_position": null,
      "order": null,
      "overflow": null,
      "overflow_x": null,
      "overflow_y": null,
      "padding": null,
      "right": null,
      "top": null,
      "visibility": null,
      "width": null
     }
    },
    "fdd2ddd5a2234e2782d69875429c42c6": {
     "model_module": "@jupyter-widgets/controls",
     "model_module_version": "1.5.0",
     "model_name": "LabelModel",
     "state": {
      "_dom_classes": [],
      "_model_module": "@jupyter-widgets/controls",
      "_model_module_version": "1.5.0",
      "_model_name": "LabelModel",
      "_view_count": null,
      "_view_module": "@jupyter-widgets/controls",
      "_view_module_version": "1.5.0",
      "_view_name": "LabelView",
      "description": "",
      "description_tooltip": null,
      "layout": "IPY_MODEL_f74449778f4b4e0eaf8c639be1b1085f",
      "placeholder": "​",
      "style": "IPY_MODEL_39b6d52b62734888a7b6f3adab34a30b",
      "value": "118.677 MB of 118.677 MB uploaded (0.606 MB deduped)\r"
     }
    }
   }
  }
 },
 "nbformat": 4,
 "nbformat_minor": 4
}
